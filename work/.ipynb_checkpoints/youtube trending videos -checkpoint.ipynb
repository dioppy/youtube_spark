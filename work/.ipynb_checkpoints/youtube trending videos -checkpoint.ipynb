{
 "cells": [
  {
   "cell_type": "code",
   "execution_count": 1,
   "id": "ruled-angle",
   "metadata": {},
   "outputs": [],
   "source": [
    "from pyspark.sql import SparkSession\n",
    "spark = SparkSession.builder.getOrCreate()"
   ]
  },
  {
   "cell_type": "code",
   "execution_count": 2,
   "id": "sixth-trunk",
   "metadata": {},
   "outputs": [],
   "source": [
    "import numpy as np\n",
    "import matplotlib.pyplot as plt\n",
    "import pandas as pd\n",
    "import seaborn as sns\n",
    "from pyspark.sql import functions as F"
   ]
  },
  {
   "cell_type": "code",
   "execution_count": 3,
   "id": "anonymous-pixel",
   "metadata": {},
   "outputs": [
    {
     "data": {
      "text/plain": [
       "[('_c0', 'string'),\n",
       " ('_c1', 'string'),\n",
       " ('_c2', 'string'),\n",
       " ('_c3', 'string'),\n",
       " ('_c4', 'string'),\n",
       " ('_c5', 'string'),\n",
       " ('_c6', 'string'),\n",
       " ('_c7', 'string'),\n",
       " ('_c8', 'string'),\n",
       " ('_c9', 'string'),\n",
       " ('_c10', 'string'),\n",
       " ('_c11', 'string'),\n",
       " ('_c12', 'string'),\n",
       " ('_c13', 'string'),\n",
       " ('_c14', 'string'),\n",
       " ('_c15', 'string')]"
      ]
     },
     "execution_count": 3,
     "metadata": {},
     "output_type": "execute_result"
    }
   ],
   "source": [
    "path = \"./data/FRvideos.csv\"\n",
    "df = spark.read.load(path, format=\"csv\")\n",
    "df.dtypes"
   ]
  },
  {
   "cell_type": "code",
   "execution_count": 4,
   "id": "conditional-opening",
   "metadata": {},
   "outputs": [
    {
     "data": {
      "text/plain": [
       "[('video_id', 'string'),\n",
       " ('trending_date', 'string'),\n",
       " ('title', 'string'),\n",
       " ('channel_title', 'string'),\n",
       " ('category_id', 'string'),\n",
       " ('publish_time', 'string'),\n",
       " ('tags', 'string'),\n",
       " ('views', 'string'),\n",
       " ('likes', 'string'),\n",
       " ('dislikes', 'string'),\n",
       " ('comment_count', 'string'),\n",
       " ('thumbnail_link', 'string'),\n",
       " ('comments_disabled', 'string'),\n",
       " ('ratings_disabled', 'string'),\n",
       " ('video_error_or_removed', 'string'),\n",
       " ('description', 'string')]"
      ]
     },
     "execution_count": 4,
     "metadata": {},
     "output_type": "execute_result"
    }
   ],
   "source": [
    "df = spark.read.format('csv').options(header=True).load(path)\n",
    "df.dtypes"
   ]
  },
  {
   "cell_type": "code",
   "execution_count": 5,
   "id": "satisfactory-roads",
   "metadata": {},
   "outputs": [
    {
     "data": {
      "text/plain": [
       "[Row(video_id='Ro6eob0LrCY', trending_date='17.14.11', title='Malika LePen : Femme de Gauche - Trailer', channel_title='Le Raptor Dissident', category_id='24', publish_time='2017-11-13T17:32:55.000Z', tags='\"Raptor\"\"|\"\"Dissident\"\"|\"\"Expliquez\"\"|\"\"moi\"\"|\"\"cette\"\"|\"\"merde\"', views='212702', likes='29282', dislikes='1108', comment_count='3817', thumbnail_link='https://i.ytimg.com/vi/Ro6eob0LrCY/default.jpg', comments_disabled='False', ratings_disabled='False', video_error_or_removed='False', description=\"Dimanche.\\\\n18h30.\\\\nSoyez présents pour la vidéo la plus réalistiquement haineuse du YouTube Game.\\\\n\\\\nStrike sous 24h garanti.\\\\n\\\\nMontage de NastyTanooki : https://www.youtube.com/channel/UCJvYnKvJZSIz-2deI7Xppww\\\\n\\\\n------------------------------------------------------------------------------------------------\\\\n\\\\nRAPTORCOACHING PRO : raptorcoachingpro@gmail.com\\\\n\\\\nSi tu pratiques la musculation et que tu es intéressé(e) par un Programme/Diète Personnalisés + Suivi, envoie nous un mail avec ton Nom/Âge/Objectif et le coach s'occupera de toi. Le training sera réalisé en fonction des objectifs aussi bien muscu prise de muscle/sèche que prépa sportive/concours.\\\\n\\\\nPROZIS : -10% sur tout le site http://prozis.com/lb5 avec le coupon COACHINGPRO10\\\\n\\\\n------------------------------------------------------------------------------------------------\\\\n\\\\nRejoins la dissidence jurassique sur les réseaux sociaux :\\\\n\\\\nFACEBOOK : https://www.facebook.com/LeRaptorDissident\\\\n\\\\nTWITTER : https://twitter.com/RaptorDissident\\\\n\\\\nSNAPCHAT : raptorvswild\\\\n\\\\nINSTAGRAM : raptorvsfonte\\\\n\\\\nTIPEE D'OR : https://www.tipeee.com/le-raptor-dissident\\\\n\\\\n------------------------------------------------------------------------------------------------\\\\n\\\\nSources :\\\\n\\\\nMusique : https://www.youtube.com/watch?v=7vn5BD0oadM\\\\n\\\\nMa Bannière et mon Avatar YouTube : LeDessinator https://www.youtube.com/channel/UCXLIl-l_zi1lCVrJHLJqJew\"),\n",
       " Row(video_id='Yo84eqYwP98', trending_date='17.14.11', title=\"LA PIRE PARTIE ft Le Rire Jaune, Pierre Croce, Fabien Olicard, Nad Rich' Hard, Max Bird, Studio Vrac\", channel_title='Le Labo', category_id='24', publish_time='2017-11-12T15:00:02.000Z', tags='[none]', views='432721', likes='14053', dislikes='576', comment_count='1161', thumbnail_link='https://i.ytimg.com/vi/Yo84eqYwP98/default.jpg', comments_disabled='False', ratings_disabled='False', video_error_or_removed='False', description=\"Le jeu de société: https://goo.gl/hhG1Ta\\\\n\\\\nGagner le jeu signé par tous les joueurs: \\\\n\\\\nChaîne de Studio Vrac: https://goo.gl/HVPoJs\\\\nChaîne du Rire Jaune: https://goo.gl/JqUGNj\\\\nChaîne de Fabien Olicard: https://goo.gl/uc6zii\\\\nChaîne de Nad Rich' Hard: https://goo.gl/hiy2mw\\\\nChaîne de Pierre Croce: https://goo.gl/PVijXG\\\\nChaîne de Max Bird: https://goo.gl/A9Zc1r\\\\nChaîne des astuces de Margaux: https://goo.gl/Pz9L1v\\\\n\\\\n\\\\n------------------\\\\n\\\\nSi tu m'envoies un colis ou une lettre, n'oublie pas d'y laisser ton adresse pour t'ajouter à la carte des abonnés !\\\\n\\\\nLa carte des abonnés: https://goo.gl/438YIX\\\\n\\\\n\\\\nMa liste de recherches de cartes Battle Tube : https://goo.gl/zG6Npz\\\\nMa liste de recherches de cartes Yu-Gi-Oh : https://goo.gl/40bUBO\\\\nMa liste de recherches de jeux GameCube : https://goo.gl/cMEAM7\\\\n\\\\n------------------\\\\n\\\\nTu veux m'envoyer un colis ?\\\\nC'est ici:\\\\n\\\\nDoc Seven\\\\nUne pièce en plus\\\\n119 Avenue Paul Vaillant Couturier\\\\n94250 Gentilly\\\\n\\\\n------------------\\\\n\\\\nTu veux m'envoyer une lettre ?\\\\nC'est ici:\\\\n\\\\nDoc Seven\\\\n8, rue du Fg Poissonnière\\\\n75010 Paris\\\\n\\\\n------------------\\\\n\\\\nSi vous venez de ma chaîne principale, vous me connaissez, sinon allez faire un tour sur ma chaîne principale: \\\\nhttps://www.youtube.com/channel/UC5Twj1Axp_-9HLsZ5o_cEQQ\\\\n\\\\nN'oubliez pas de vous abonner et n'hésitez pas à me suivre sur les réseaux sociaux!\\\\n\\\\nFacebook: https://www.facebook.com/DocSevenTV\\\\nTwitter: https://twitter.com/DocSevenTV\\\\nInstagram: https://www.instagram.com/docseventv/\\\\n\\\\n------------------\\\\n\\\\nCrédit(s) musique:\\\\nArtistes récurrents:\\\\n- KronoMuzik : https://www.youtube.com/channel/UC5C9...\\\\n\\\\n- Anthox : https://www.youtube.com/user/wildesyde\\\\n\\\\n- Efisio Cross : https://www.youtube.com/user/EfisioSymphony\\\\n\\\\nGraphisme de la chaîne:\\\\nBoidin: https://www.youtube.com/user/battlefrite\")]"
      ]
     },
     "execution_count": 5,
     "metadata": {},
     "output_type": "execute_result"
    }
   ],
   "source": [
    "df.take(2)"
   ]
  },
  {
   "cell_type": "code",
   "execution_count": 6,
   "id": "union-commission",
   "metadata": {},
   "outputs": [
    {
     "name": "stdout",
     "output_type": "stream",
     "text": [
      "root\n",
      " |-- video_id: string (nullable = true)\n",
      " |-- trending_date: string (nullable = true)\n",
      " |-- title: string (nullable = true)\n",
      " |-- channel_title: string (nullable = true)\n",
      " |-- category_id: string (nullable = true)\n",
      " |-- publish_time: string (nullable = true)\n",
      " |-- tags: string (nullable = true)\n",
      " |-- views: string (nullable = true)\n",
      " |-- likes: string (nullable = true)\n",
      " |-- dislikes: string (nullable = true)\n",
      " |-- comment_count: string (nullable = true)\n",
      " |-- thumbnail_link: string (nullable = true)\n",
      " |-- comments_disabled: string (nullable = true)\n",
      " |-- ratings_disabled: string (nullable = true)\n",
      " |-- video_error_or_removed: string (nullable = true)\n",
      " |-- description: string (nullable = true)\n",
      "\n"
     ]
    }
   ],
   "source": [
    "df.printSchema()"
   ]
  },
  {
   "cell_type": "code",
   "execution_count": 7,
   "id": "executive-retro",
   "metadata": {},
   "outputs": [],
   "source": [
    "import pandas as pd\n",
    "import numpy as np\n",
    "import matplotlib as mpl\n",
    "from matplotlib import pyplot as plt\n",
    "import seaborn as sns\n",
    "\n",
    "import warnings\n",
    "from collections import Counter\n",
    "import datetime\n",
    "import json"
   ]
  },
  {
   "cell_type": "code",
   "execution_count": 8,
   "id": "experienced-rover",
   "metadata": {},
   "outputs": [],
   "source": [
    "df1 = pd.read_csv(\"./data/FRvideos.csv\")"
   ]
  },
  {
   "cell_type": "code",
   "execution_count": 9,
   "id": "exterior-steps",
   "metadata": {},
   "outputs": [],
   "source": [
    "PLOT_COLORS = [\"#268bd2\", \"#0052CC\", \"#FF5722\", \"#b58900\", \"#003f5c\"]\n",
    "pd.options.display.float_format = '{:.2f}'.format\n",
    "sns.set(style=\"ticks\")\n",
    "plt.rc('figure', figsize=(8, 5), dpi=100)\n",
    "plt.rc('axes', labelpad=20, facecolor=\"#ffffff\", linewidth=0.4, grid=True, labelsize=14)\n",
    "plt.rc('patch', linewidth=0)\n",
    "plt.rc('xtick.major', width=0.2)\n",
    "plt.rc('ytick.major', width=0.2)\n",
    "plt.rc('grid', color='#9E9E9E', linewidth=0.4)\n",
    "plt.rc('font', family='Arial', weight='400', size=10)\n",
    "plt.rc('text', color='#282828')\n",
    "plt.rc('savefig', pad_inches=0.3, dpi=300)"
   ]
  },
  {
   "cell_type": "code",
   "execution_count": 10,
   "id": "shared-james",
   "metadata": {},
   "outputs": [
    {
     "data": {
      "text/html": [
       "<div>\n",
       "<style scoped>\n",
       "    .dataframe tbody tr th:only-of-type {\n",
       "        vertical-align: middle;\n",
       "    }\n",
       "\n",
       "    .dataframe tbody tr th {\n",
       "        vertical-align: top;\n",
       "    }\n",
       "\n",
       "    .dataframe thead th {\n",
       "        text-align: right;\n",
       "    }\n",
       "</style>\n",
       "<table border=\"1\" class=\"dataframe\">\n",
       "  <thead>\n",
       "    <tr style=\"text-align: right;\">\n",
       "      <th></th>\n",
       "      <th>video_id</th>\n",
       "      <th>trending_date</th>\n",
       "      <th>title</th>\n",
       "      <th>channel_title</th>\n",
       "      <th>category_id</th>\n",
       "      <th>publish_time</th>\n",
       "      <th>tags</th>\n",
       "      <th>views</th>\n",
       "      <th>likes</th>\n",
       "      <th>dislikes</th>\n",
       "      <th>comment_count</th>\n",
       "      <th>thumbnail_link</th>\n",
       "      <th>comments_disabled</th>\n",
       "      <th>ratings_disabled</th>\n",
       "      <th>video_error_or_removed</th>\n",
       "      <th>description</th>\n",
       "    </tr>\n",
       "  </thead>\n",
       "  <tbody>\n",
       "    <tr>\n",
       "      <th>0</th>\n",
       "      <td>Ro6eob0LrCY</td>\n",
       "      <td>17.14.11</td>\n",
       "      <td>Malika LePen : Femme de Gauche - Trailer</td>\n",
       "      <td>Le Raptor Dissident</td>\n",
       "      <td>24</td>\n",
       "      <td>2017-11-13T17:32:55.000Z</td>\n",
       "      <td>Raptor\"|\"Dissident\"|\"Expliquez\"|\"moi\"|\"cette\"|...</td>\n",
       "      <td>212702</td>\n",
       "      <td>29282</td>\n",
       "      <td>1108</td>\n",
       "      <td>3817</td>\n",
       "      <td>https://i.ytimg.com/vi/Ro6eob0LrCY/default.jpg</td>\n",
       "      <td>False</td>\n",
       "      <td>False</td>\n",
       "      <td>False</td>\n",
       "      <td>Dimanche.\\n18h30.\\nSoyez présents pour la vidé...</td>\n",
       "    </tr>\n",
       "    <tr>\n",
       "      <th>1</th>\n",
       "      <td>Yo84eqYwP98</td>\n",
       "      <td>17.14.11</td>\n",
       "      <td>LA PIRE PARTIE ft Le Rire Jaune, Pierre Croce,...</td>\n",
       "      <td>Le Labo</td>\n",
       "      <td>24</td>\n",
       "      <td>2017-11-12T15:00:02.000Z</td>\n",
       "      <td>[none]</td>\n",
       "      <td>432721</td>\n",
       "      <td>14053</td>\n",
       "      <td>576</td>\n",
       "      <td>1161</td>\n",
       "      <td>https://i.ytimg.com/vi/Yo84eqYwP98/default.jpg</td>\n",
       "      <td>False</td>\n",
       "      <td>False</td>\n",
       "      <td>False</td>\n",
       "      <td>Le jeu de société: https://goo.gl/hhG1Ta\\n\\nGa...</td>\n",
       "    </tr>\n",
       "    <tr>\n",
       "      <th>2</th>\n",
       "      <td>ceqntSXE-10</td>\n",
       "      <td>17.14.11</td>\n",
       "      <td>DESSINS ANIMÉS FRANÇAIS VS RUSSES 2 - Daniil...</td>\n",
       "      <td>Daniil le Russe</td>\n",
       "      <td>23</td>\n",
       "      <td>2017-11-13T17:00:38.000Z</td>\n",
       "      <td>cartoon\"|\"pokémon\"|\"école\"|\"ours\"|\"мультфильм</td>\n",
       "      <td>482153</td>\n",
       "      <td>76203</td>\n",
       "      <td>477</td>\n",
       "      <td>9580</td>\n",
       "      <td>https://i.ytimg.com/vi/ceqntSXE-10/default.jpg</td>\n",
       "      <td>False</td>\n",
       "      <td>False</td>\n",
       "      <td>False</td>\n",
       "      <td>Une nouvelle dose de dessins animés français e...</td>\n",
       "    </tr>\n",
       "    <tr>\n",
       "      <th>3</th>\n",
       "      <td>WuTFI5qftCE</td>\n",
       "      <td>17.14.11</td>\n",
       "      <td>PAPY GRENIER - METAL GEAR SOLID</td>\n",
       "      <td>Joueur Du Grenier</td>\n",
       "      <td>20</td>\n",
       "      <td>2017-11-12T17:00:02.000Z</td>\n",
       "      <td>Papy grenier\"|\"Metal Gear Solid\"|\"PS1\"|\"Tirage...</td>\n",
       "      <td>925222</td>\n",
       "      <td>85016</td>\n",
       "      <td>550</td>\n",
       "      <td>4303</td>\n",
       "      <td>https://i.ytimg.com/vi/WuTFI5qftCE/default.jpg</td>\n",
       "      <td>False</td>\n",
       "      <td>False</td>\n",
       "      <td>False</td>\n",
       "      <td>Nouvel ,épisode de Papy Grenier ! Ce mois-ci o...</td>\n",
       "    </tr>\n",
       "    <tr>\n",
       "      <th>4</th>\n",
       "      <td>ee6OFs8TdEg</td>\n",
       "      <td>17.14.11</td>\n",
       "      <td>QUI SAUTERA LE PLUS HAUT ? (VÉLO SKATE ROLLER ...</td>\n",
       "      <td>Aurelien Fontenoy</td>\n",
       "      <td>17</td>\n",
       "      <td>2017-11-13T16:30:03.000Z</td>\n",
       "      <td>vélo\"|\"vtt\"|\"bmx\"|\"freestyle\"|\"bike\"|\"mtb\"|\"di...</td>\n",
       "      <td>141695</td>\n",
       "      <td>8091</td>\n",
       "      <td>72</td>\n",
       "      <td>481</td>\n",
       "      <td>https://i.ytimg.com/vi/ee6OFs8TdEg/default.jpg</td>\n",
       "      <td>False</td>\n",
       "      <td>False</td>\n",
       "      <td>False</td>\n",
       "      <td>Sauts à plus de 4 mètres de haut dans un tramp...</td>\n",
       "    </tr>\n",
       "  </tbody>\n",
       "</table>\n",
       "</div>"
      ],
      "text/plain": [
       "      video_id trending_date  \\\n",
       "0  Ro6eob0LrCY      17.14.11   \n",
       "1  Yo84eqYwP98      17.14.11   \n",
       "2  ceqntSXE-10      17.14.11   \n",
       "3  WuTFI5qftCE      17.14.11   \n",
       "4  ee6OFs8TdEg      17.14.11   \n",
       "\n",
       "                                               title        channel_title  \\\n",
       "0           Malika LePen : Femme de Gauche - Trailer  Le Raptor Dissident   \n",
       "1  LA PIRE PARTIE ft Le Rire Jaune, Pierre Croce,...              Le Labo   \n",
       "2  DESSINS ANIMÉS FRANÇAIS VS RUSSES 2 - Daniil...      Daniil le Russe   \n",
       "3                    PAPY GRENIER - METAL GEAR SOLID    Joueur Du Grenier   \n",
       "4  QUI SAUTERA LE PLUS HAUT ? (VÉLO SKATE ROLLER ...    Aurelien Fontenoy   \n",
       "\n",
       "   category_id              publish_time  \\\n",
       "0           24  2017-11-13T17:32:55.000Z   \n",
       "1           24  2017-11-12T15:00:02.000Z   \n",
       "2           23  2017-11-13T17:00:38.000Z   \n",
       "3           20  2017-11-12T17:00:02.000Z   \n",
       "4           17  2017-11-13T16:30:03.000Z   \n",
       "\n",
       "                                                tags   views  likes  dislikes  \\\n",
       "0  Raptor\"|\"Dissident\"|\"Expliquez\"|\"moi\"|\"cette\"|...  212702  29282      1108   \n",
       "1                                             [none]  432721  14053       576   \n",
       "2      cartoon\"|\"pokémon\"|\"école\"|\"ours\"|\"мультфильм  482153  76203       477   \n",
       "3  Papy grenier\"|\"Metal Gear Solid\"|\"PS1\"|\"Tirage...  925222  85016       550   \n",
       "4  vélo\"|\"vtt\"|\"bmx\"|\"freestyle\"|\"bike\"|\"mtb\"|\"di...  141695   8091        72   \n",
       "\n",
       "   comment_count                                  thumbnail_link  \\\n",
       "0           3817  https://i.ytimg.com/vi/Ro6eob0LrCY/default.jpg   \n",
       "1           1161  https://i.ytimg.com/vi/Yo84eqYwP98/default.jpg   \n",
       "2           9580  https://i.ytimg.com/vi/ceqntSXE-10/default.jpg   \n",
       "3           4303  https://i.ytimg.com/vi/WuTFI5qftCE/default.jpg   \n",
       "4            481  https://i.ytimg.com/vi/ee6OFs8TdEg/default.jpg   \n",
       "\n",
       "   comments_disabled  ratings_disabled  video_error_or_removed  \\\n",
       "0              False             False                   False   \n",
       "1              False             False                   False   \n",
       "2              False             False                   False   \n",
       "3              False             False                   False   \n",
       "4              False             False                   False   \n",
       "\n",
       "                                         description  \n",
       "0  Dimanche.\\n18h30.\\nSoyez présents pour la vidé...  \n",
       "1  Le jeu de société: https://goo.gl/hhG1Ta\\n\\nGa...  \n",
       "2  Une nouvelle dose de dessins animés français e...  \n",
       "3  Nouvel ,épisode de Papy Grenier ! Ce mois-ci o...  \n",
       "4  Sauts à plus de 4 mètres de haut dans un tramp...  "
      ]
     },
     "execution_count": 10,
     "metadata": {},
     "output_type": "execute_result"
    }
   ],
   "source": [
    "df1.head()"
   ]
  },
  {
   "cell_type": "code",
   "execution_count": 11,
   "id": "correct-index",
   "metadata": {},
   "outputs": [
    {
     "name": "stdout",
     "output_type": "stream",
     "text": [
      "<class 'pandas.core.frame.DataFrame'>\n",
      "RangeIndex: 40724 entries, 0 to 40723\n",
      "Data columns (total 16 columns):\n",
      " #   Column                  Non-Null Count  Dtype \n",
      "---  ------                  --------------  ----- \n",
      " 0   video_id                40724 non-null  object\n",
      " 1   trending_date           40724 non-null  object\n",
      " 2   title                   40724 non-null  object\n",
      " 3   channel_title           40724 non-null  object\n",
      " 4   category_id             40724 non-null  int64 \n",
      " 5   publish_time            40724 non-null  object\n",
      " 6   tags                    40724 non-null  object\n",
      " 7   views                   40724 non-null  int64 \n",
      " 8   likes                   40724 non-null  int64 \n",
      " 9   dislikes                40724 non-null  int64 \n",
      " 10  comment_count           40724 non-null  int64 \n",
      " 11  thumbnail_link          40724 non-null  object\n",
      " 12  comments_disabled       40724 non-null  bool  \n",
      " 13  ratings_disabled        40724 non-null  bool  \n",
      " 14  video_error_or_removed  40724 non-null  bool  \n",
      " 15  description             37812 non-null  object\n",
      "dtypes: bool(3), int64(5), object(8)\n",
      "memory usage: 4.2+ MB\n"
     ]
    }
   ],
   "source": [
    "df1.info()"
   ]
  },
  {
   "cell_type": "code",
   "execution_count": 12,
   "id": "induced-sugar",
   "metadata": {},
   "outputs": [
    {
     "data": {
      "text/plain": [
       "pandas.core.frame.DataFrame"
      ]
     },
     "execution_count": 12,
     "metadata": {},
     "output_type": "execute_result"
    }
   ],
   "source": [
    "type(df1)"
   ]
  },
  {
   "cell_type": "code",
   "execution_count": 13,
   "id": "confirmed-performance",
   "metadata": {},
   "outputs": [
    {
     "data": {
      "text/plain": [
       "pyspark.sql.dataframe.DataFrame"
      ]
     },
     "execution_count": 13,
     "metadata": {},
     "output_type": "execute_result"
    }
   ],
   "source": [
    "type(df)"
   ]
  },
  {
   "cell_type": "code",
   "execution_count": 14,
   "id": "acceptable-presentation",
   "metadata": {},
   "outputs": [
    {
     "data": {
      "text/plain": [
       "DataFrame[video_id: string, trending_date: string, title: string, channel_title: string, category_id: string, publish_time: string, tags: string, views: string, likes: string, dislikes: string, comment_count: string, thumbnail_link: string, comments_disabled: string, ratings_disabled: string, video_error_or_removed: string, description: string]"
      ]
     },
     "execution_count": 14,
     "metadata": {},
     "output_type": "execute_result"
    }
   ],
   "source": [
    "df"
   ]
  },
  {
   "cell_type": "code",
   "execution_count": 15,
   "id": "sunset-bailey",
   "metadata": {},
   "outputs": [
    {
     "data": {
      "text/html": [
       "\n",
       "        <div>\n",
       "            <p><b>SparkContext</b></p>\n",
       "\n",
       "            <p><a href=\"http://1a6d30d06bc5:4040\">Spark UI</a></p>\n",
       "\n",
       "            <dl>\n",
       "              <dt>Version</dt>\n",
       "                <dd><code>v3.0.1</code></dd>\n",
       "              <dt>Master</dt>\n",
       "                <dd><code>local[*]</code></dd>\n",
       "              <dt>AppName</dt>\n",
       "                <dd><code>pyspark-shell</code></dd>\n",
       "            </dl>\n",
       "        </div>\n",
       "        "
      ],
      "text/plain": [
       "<SparkContext master=local[*] appName=pyspark-shell>"
      ]
     },
     "execution_count": 15,
     "metadata": {},
     "output_type": "execute_result"
    }
   ],
   "source": [
    "sc = spark.sparkContext\n",
    "sc"
   ]
  },
  {
   "cell_type": "code",
   "execution_count": 16,
   "id": "wireless-venezuela",
   "metadata": {},
   "outputs": [
    {
     "data": {
      "text/plain": [
       "['video_id',\n",
       " 'trending_date',\n",
       " 'title',\n",
       " 'channel_title',\n",
       " 'category_id',\n",
       " 'publish_time',\n",
       " 'tags',\n",
       " 'views',\n",
       " 'likes',\n",
       " 'dislikes',\n",
       " 'comment_count',\n",
       " 'thumbnail_link',\n",
       " 'comments_disabled',\n",
       " 'ratings_disabled',\n",
       " 'video_error_or_removed',\n",
       " 'description']"
      ]
     },
     "execution_count": 16,
     "metadata": {},
     "output_type": "execute_result"
    }
   ],
   "source": [
    "df.columns"
   ]
  },
  {
   "cell_type": "code",
   "execution_count": 17,
   "id": "organized-junction",
   "metadata": {},
   "outputs": [
    {
     "name": "stdout",
     "output_type": "stream",
     "text": [
      "+--------------------+-----+--------+\n",
      "|               title|likes|dislikes|\n",
      "+--------------------+-----+--------+\n",
      "|Malika LePen : Fe...|29282|    1108|\n",
      "|LA PIRE PARTIE ft...|14053|     576|\n",
      "+--------------------+-----+--------+\n",
      "only showing top 2 rows\n",
      "\n"
     ]
    }
   ],
   "source": [
    "df.select('title','likes','dislikes').show(2)"
   ]
  },
  {
   "cell_type": "code",
   "execution_count": 18,
   "id": "musical-banner",
   "metadata": {},
   "outputs": [
    {
     "data": {
      "text/plain": [
       "Column<b'CAST(likes AS INT)'>"
      ]
     },
     "execution_count": 18,
     "metadata": {},
     "output_type": "execute_result"
    }
   ],
   "source": [
    "from pyspark.sql.types import IntegerType\n",
    "from pyspark.sql.functions import col\n",
    "\n",
    "col(\"likes\").cast(IntegerType())"
   ]
  },
  {
   "cell_type": "code",
   "execution_count": 42,
   "id": "private-hudson",
   "metadata": {},
   "outputs": [],
   "source": [
    "#convertion de likes et dislikes en interger \n",
    "df = df.withColumn(\"likes\",df[\"likes\"].cast(IntegerType()))\n",
    "df = df.withColumn(\"dislikes\",df[\"dislikes\"].cast(IntegerType()))\n",
    "df = df.withColumn(\"views\",df[\"views\"].cast(IntegerType()))"
   ]
  },
  {
   "cell_type": "code",
   "execution_count": 43,
   "id": "disciplinary-thread",
   "metadata": {},
   "outputs": [
    {
     "name": "stdout",
     "output_type": "stream",
     "text": [
      "root\n",
      " |-- video_id: string (nullable = true)\n",
      " |-- trending_date: string (nullable = true)\n",
      " |-- title: string (nullable = true)\n",
      " |-- channel_title: string (nullable = true)\n",
      " |-- category_id: string (nullable = true)\n",
      " |-- publish_time: string (nullable = true)\n",
      " |-- tags: string (nullable = true)\n",
      " |-- views: integer (nullable = true)\n",
      " |-- likes: integer (nullable = true)\n",
      " |-- dislikes: integer (nullable = true)\n",
      " |-- comment_count: string (nullable = true)\n",
      " |-- thumbnail_link: string (nullable = true)\n",
      " |-- comments_disabled: string (nullable = true)\n",
      " |-- ratings_disabled: string (nullable = true)\n",
      " |-- video_error_or_removed: string (nullable = true)\n",
      " |-- description: string (nullable = true)\n",
      "\n"
     ]
    }
   ],
   "source": [
    "df.printSchema()"
   ]
  },
  {
   "cell_type": "code",
   "execution_count": 21,
   "id": "minus-recipient",
   "metadata": {},
   "outputs": [
    {
     "name": "stdout",
     "output_type": "stream",
     "text": [
      "+-------+--------+------------------+------------------+-------------+------------------+------------+-----+-----------------+------------------+-----------------+------------------+--------------+-----------------+----------------+----------------------+-----------+\n",
      "|summary|video_id|     trending_date|             title|channel_title|       category_id|publish_time| tags|            views|             likes|         dislikes|     comment_count|thumbnail_link|comments_disabled|ratings_disabled|video_error_or_removed|description|\n",
      "+-------+--------+------------------+------------------+-------------+------------------+------------+-----+-----------------+------------------+-----------------+------------------+--------------+-----------------+----------------+----------------------+-----------+\n",
      "|  count|   46138|             41535|             41249|        41106|             41011|       40924|40900|            40842|             40724|            40724|             40824|         40771|            40769|           40761|                 40757|      37843|\n",
      "|   mean|    null|2016.1538461538462|1191.6666666666667|         null|20.123809056084863|        null| null|419921.8506040664|17388.863814949415|814.9623809056085|1832.4527060210196|          null|             null|            null|                  null|   1013.825|\n",
      "+-------+--------+------------------+------------------+-------------+------------------+------------+-----+-----------------+------------------+-----------------+------------------+--------------+-----------------+----------------+----------------------+-----------+\n",
      "only showing top 2 rows\n",
      "\n"
     ]
    }
   ],
   "source": [
    "df.describe().show(2)"
   ]
  },
  {
   "cell_type": "code",
   "execution_count": 44,
   "id": "recognized-institute",
   "metadata": {},
   "outputs": [
    {
     "name": "stdout",
     "output_type": "stream",
     "text": [
      "+-----------+-------------+--------------------+--------------------+-----------+--------------------+--------------------+-------+-----+--------+-------------+--------------------+-----------------+----------------+----------------------+--------------------+\n",
      "|   video_id|trending_date|               title|       channel_title|category_id|        publish_time|                tags|  views|likes|dislikes|comment_count|      thumbnail_link|comments_disabled|ratings_disabled|video_error_or_removed|         description|\n",
      "+-----------+-------------+--------------------+--------------------+-----------+--------------------+--------------------+-------+-----+--------+-------------+--------------------+-----------------+----------------+----------------------+--------------------+\n",
      "|HvbQPAalA9k|     18.19.01|ALERTE YOUTUBE : ...|               CYR!L|         23|2018-01-18T18:29:...|\"cyril\"\"|\"\"cyr!l\"...| 564717|98869|     383|         9992|https://i.ytimg.c...|            False|           False|                 False|Et c'est reparti ...|\n",
      "|PzcaR1N0pTI|     18.06.03|Mary Poppins Retu...|Disney Movie Trai...|          1|2018-03-05T01:22:...|\"Mary Poppins\"\"|\"...|3141764|57674|    3729|         9991|https://i.ytimg.c...|            False|           False|                 False|This Christmas, a...|\n",
      "+-----------+-------------+--------------------+--------------------+-----------+--------------------+--------------------+-------+-----+--------+-------------+--------------------+-----------------+----------------+----------------------+--------------------+\n",
      "only showing top 2 rows\n",
      "\n"
     ]
    }
   ],
   "source": [
    "df.orderBy(df[\"comment_count\"].desc()).show(2)"
   ]
  },
  {
   "cell_type": "code",
   "execution_count": 24,
   "id": "sixth-gauge",
   "metadata": {},
   "outputs": [
    {
     "name": "stdout",
     "output_type": "stream",
     "text": [
      "+--------------------+----------+-------------+\n",
      "|                tags|max(likes)|max(dislikes)|\n",
      "+--------------------+----------+-------------+\n",
      "|\"Նռան հատիկ\"\"|\"\"Ս...|       306|           89|\n",
      "|\"telefoot\"\"|\"\"foo...|      3632|           41|\n",
      "|\"Parents mode d'e...|      1370|           21|\n",
      "|\"Ntanga Nsongi\"\"|...|       469|          124|\n",
      "|\"Hits\"\"|\"\"kollywo...|     67384|         1192|\n",
      "|\"trash\"\"|\"\"jeux\"\"...|     23667|          200|\n",
      "|\"c à vous\"\"|\"\"fra...|       126|           32|\n",
      "|\"mix up by keisha...|       238|            1|\n",
      "|\"CONGOMIKILI:\"\"|\"...|       124|           45|\n",
      "|\"pierre\"\"|\"\"croce...|     44383|          888|\n",
      "+--------------------+----------+-------------+\n",
      "only showing top 10 rows\n",
      "\n"
     ]
    }
   ],
   "source": [
    "df.groupBy('tags').max().show(10)"
   ]
  },
  {
   "cell_type": "code",
   "execution_count": 78,
   "id": "hybrid-newfoundland",
   "metadata": {},
   "outputs": [],
   "source": [
    "from pyspark.sql.functions import mean, min, max"
   ]
  },
  {
   "cell_type": "code",
   "execution_count": 48,
   "id": "thrown-gibraltar",
   "metadata": {},
   "outputs": [
    {
     "name": "stdout",
     "output_type": "stream",
     "text": [
      "+-----------+-------------+--------------------+-------------------+-----------+--------------------+--------------------+------+-----+--------+-------------+--------------------+-----------------+----------------+----------------------+--------------------+\n",
      "|   video_id|trending_date|               title|      channel_title|category_id|        publish_time|                tags| views|likes|dislikes|comment_count|      thumbnail_link|comments_disabled|ratings_disabled|video_error_or_removed|         description|\n",
      "+-----------+-------------+--------------------+-------------------+-----------+--------------------+--------------------+------+-----+--------+-------------+--------------------+-----------------+----------------+----------------------+--------------------+\n",
      "|LhjhGOBIoHM|     17.14.11|Jérémy Ferrari - ...|On n'est pas couché|         24|2017-11-12T00:53:...|\"onpc\"\"|\"\"on n'es...|294065|    0|       0|            0|https://i.ytimg.c...|             True|            True|                 False|Jérémy Ferrari - ...|\n",
      "|9x8maydHc38|     17.14.11|Amazing U19 Qatar...|             SporTV|         17|2017-11-12T14:18:...|\"u19\"\"|\"\"qatar\"\"|...|  9637|    6|       0|            1|https://i.ytimg.c...|            False|           False|                 False|Superbe les U19 Q...|\n",
      "+-----------+-------------+--------------------+-------------------+-----------+--------------------+--------------------+------+-----+--------+-------------+--------------------+-----------------+----------------+----------------------+--------------------+\n",
      "only showing top 2 rows\n",
      "\n"
     ]
    }
   ],
   "source": [
    "\n",
    "dfinf =df.filter(df[\"comment_count\"] <\"1000\")\n",
    "dfinf.show(2)"
   ]
  },
  {
   "cell_type": "code",
   "execution_count": 49,
   "id": "responsible-capitol",
   "metadata": {},
   "outputs": [
    {
     "data": {
      "text/plain": [
       "'4.14.3'"
      ]
     },
     "execution_count": 49,
     "metadata": {},
     "output_type": "execute_result"
    }
   ],
   "source": [
    "import plotly\n",
    "plotly.__version__"
   ]
  },
  {
   "cell_type": "code",
   "execution_count": 28,
   "id": "hawaiian-vietnamese",
   "metadata": {},
   "outputs": [],
   "source": [
    "import chart_studio.plotly as py\n",
    "import plotly.graph_objs as go"
   ]
  },
  {
   "cell_type": "code",
   "execution_count": 29,
   "id": "international-cartridge",
   "metadata": {},
   "outputs": [
    {
     "name": "stdout",
     "output_type": "stream",
     "text": [
      "<class 'pyspark.sql.dataframe.DataFrame'>\n"
     ]
    }
   ],
   "source": [
    "print(type(df))"
   ]
  },
  {
   "cell_type": "code",
   "execution_count": 30,
   "id": "random-money",
   "metadata": {},
   "outputs": [
    {
     "name": "stdout",
     "output_type": "stream",
     "text": [
      "<class 'pandas.core.frame.DataFrame'>\n"
     ]
    }
   ],
   "source": [
    "print(type(df1))"
   ]
  },
  {
   "cell_type": "code",
   "execution_count": 47,
   "id": "electric-moment",
   "metadata": {},
   "outputs": [
    {
     "name": "stdout",
     "output_type": "stream",
     "text": [
      "+-----------+-------------+--------------------+-------------------+-----------+--------------------+--------------------+------+-----+--------+-------------+--------------------+-----------------+----------------+----------------------+--------------------+\n",
      "|   video_id|trending_date|               title|      channel_title|category_id|        publish_time|                tags| views|likes|dislikes|comment_count|      thumbnail_link|comments_disabled|ratings_disabled|video_error_or_removed|         description|\n",
      "+-----------+-------------+--------------------+-------------------+-----------+--------------------+--------------------+------+-----+--------+-------------+--------------------+-----------------+----------------+----------------------+--------------------+\n",
      "|Ro6eob0LrCY|     17.14.11|Malika LePen : Fe...|Le Raptor Dissident|         24|2017-11-13T17:32:...|\"Raptor\"\"|\"\"Dissi...|212702|29282|    1108|         3817|https://i.ytimg.c...|            False|           False|                 False|Dimanche.\\n18h30....|\n",
      "|Yo84eqYwP98|     17.14.11|LA PIRE PARTIE ft...|            Le Labo|         24|2017-11-12T15:00:...|              [none]|432721|14053|     576|         1161|https://i.ytimg.c...|            False|           False|                 False|Le jeu de société...|\n",
      "+-----------+-------------+--------------------+-------------------+-----------+--------------------+--------------------+------+-----+--------+-------------+--------------------+-----------------+----------------+----------------------+--------------------+\n",
      "only showing top 2 rows\n",
      "\n"
     ]
    }
   ],
   "source": [
    "dfsup =df.filter(df[\"views\"] >\"1000\")\n",
    "dfsup.show(2)"
   ]
  },
  {
   "cell_type": "code",
   "execution_count": 33,
   "id": "differential-domain",
   "metadata": {},
   "outputs": [
    {
     "data": {
      "text/html": [
       "<div>\n",
       "<style scoped>\n",
       "    .dataframe tbody tr th:only-of-type {\n",
       "        vertical-align: middle;\n",
       "    }\n",
       "\n",
       "    .dataframe tbody tr th {\n",
       "        vertical-align: top;\n",
       "    }\n",
       "\n",
       "    .dataframe thead th {\n",
       "        text-align: right;\n",
       "    }\n",
       "</style>\n",
       "<table border=\"1\" class=\"dataframe\">\n",
       "  <thead>\n",
       "    <tr style=\"text-align: right;\">\n",
       "      <th></th>\n",
       "      <th>video_id</th>\n",
       "      <th>trending_date</th>\n",
       "      <th>title</th>\n",
       "      <th>channel_title</th>\n",
       "      <th>category_id</th>\n",
       "      <th>publish_time</th>\n",
       "      <th>tags</th>\n",
       "      <th>views</th>\n",
       "      <th>likes</th>\n",
       "      <th>dislikes</th>\n",
       "      <th>comment_count</th>\n",
       "      <th>thumbnail_link</th>\n",
       "      <th>comments_disabled</th>\n",
       "      <th>ratings_disabled</th>\n",
       "      <th>video_error_or_removed</th>\n",
       "      <th>description</th>\n",
       "    </tr>\n",
       "  </thead>\n",
       "  <tbody>\n",
       "    <tr>\n",
       "      <th>63</th>\n",
       "      <td>SoDxxEyxE84</td>\n",
       "      <td>17.14.11</td>\n",
       "      <td>Raquel Garrido explique son départ de FI - Les...</td>\n",
       "      <td>Gaetano Gitano</td>\n",
       "      <td>22</td>\n",
       "      <td>2017-11-12T21:30:42.000Z</td>\n",
       "      <td>[none]</td>\n",
       "      <td>12740</td>\n",
       "      <td>110</td>\n",
       "      <td>16</td>\n",
       "      <td>69</td>\n",
       "      <td>https://i.ytimg.com/vi/SoDxxEyxE84/default.jpg</td>\n",
       "      <td>False</td>\n",
       "      <td>False</td>\n",
       "      <td>False</td>\n",
       "      <td>NaN</td>\n",
       "    </tr>\n",
       "    <tr>\n",
       "      <th>75</th>\n",
       "      <td>tlSLFSw_lYs</td>\n",
       "      <td>17.14.11</td>\n",
       "      <td>Kabila pousse Tshibala vers la porte de sortie...</td>\n",
       "      <td>lokoleelela</td>\n",
       "      <td>25</td>\n",
       "      <td>2017-11-13T08:35:59.000Z</td>\n",
       "      <td>[none]</td>\n",
       "      <td>26260</td>\n",
       "      <td>182</td>\n",
       "      <td>44</td>\n",
       "      <td>156</td>\n",
       "      <td>https://i.ytimg.com/vi/tlSLFSw_lYs/default.jpg</td>\n",
       "      <td>False</td>\n",
       "      <td>False</td>\n",
       "      <td>False</td>\n",
       "      <td>NaN</td>\n",
       "    </tr>\n",
       "    <tr>\n",
       "      <th>94</th>\n",
       "      <td>rfZuiD2MaUM</td>\n",
       "      <td>17.14.11</td>\n",
       "      <td>Karl Lagerfeld descend Merkel dans Salut les T...</td>\n",
       "      <td>SQO</td>\n",
       "      <td>22</td>\n",
       "      <td>2017-11-11T19:09:59.000Z</td>\n",
       "      <td>[none]</td>\n",
       "      <td>23722</td>\n",
       "      <td>88</td>\n",
       "      <td>25</td>\n",
       "      <td>60</td>\n",
       "      <td>https://i.ytimg.com/vi/rfZuiD2MaUM/default.jpg</td>\n",
       "      <td>False</td>\n",
       "      <td>False</td>\n",
       "      <td>False</td>\n",
       "      <td>NaN</td>\n",
       "    </tr>\n",
       "  </tbody>\n",
       "</table>\n",
       "</div>"
      ],
      "text/plain": [
       "       video_id trending_date  \\\n",
       "63  SoDxxEyxE84      17.14.11   \n",
       "75  tlSLFSw_lYs      17.14.11   \n",
       "94  rfZuiD2MaUM      17.14.11   \n",
       "\n",
       "                                                title   channel_title  \\\n",
       "63  Raquel Garrido explique son départ de FI - Les...  Gaetano Gitano   \n",
       "75  Kabila pousse Tshibala vers la porte de sortie...     lokoleelela   \n",
       "94  Karl Lagerfeld descend Merkel dans Salut les T...             SQO   \n",
       "\n",
       "    category_id              publish_time    tags  views  likes  dislikes  \\\n",
       "63           22  2017-11-12T21:30:42.000Z  [none]  12740    110        16   \n",
       "75           25  2017-11-13T08:35:59.000Z  [none]  26260    182        44   \n",
       "94           22  2017-11-11T19:09:59.000Z  [none]  23722     88        25   \n",
       "\n",
       "    comment_count                                  thumbnail_link  \\\n",
       "63             69  https://i.ytimg.com/vi/SoDxxEyxE84/default.jpg   \n",
       "75            156  https://i.ytimg.com/vi/tlSLFSw_lYs/default.jpg   \n",
       "94             60  https://i.ytimg.com/vi/rfZuiD2MaUM/default.jpg   \n",
       "\n",
       "    comments_disabled  ratings_disabled  video_error_or_removed description  \n",
       "63              False             False                   False         NaN  \n",
       "75              False             False                   False         NaN  \n",
       "94              False             False                   False         NaN  "
      ]
     },
     "execution_count": 33,
     "metadata": {},
     "output_type": "execute_result"
    }
   ],
   "source": [
    "df1[df1[\"description\"].apply(lambda x: pd.isna(x))].head(3)"
   ]
  },
  {
   "cell_type": "code",
   "execution_count": 41,
   "id": "structured-processor",
   "metadata": {},
   "outputs": [
    {
     "name": "stdout",
     "output_type": "stream",
     "text": [
      "+--------------------+------+--------+--------------------+-------------+\n",
      "|               title| likes|dislikes|       channel_title|comment_count|\n",
      "+--------------------+------+--------+--------------------+-------------+\n",
      "|Malika LePen : Fe...| 29282|    1108| Le Raptor Dissident|         3817|\n",
      "|LA PIRE PARTIE ft...| 14053|     576|             Le Labo|         1161|\n",
      "|DESSINS ANIMÉS F...| 76203|     477|     Daniil le Russe|         9580|\n",
      "|PAPY GRENIER - ME...| 85016|     550|   Joueur Du Grenier|         4303|\n",
      "|QUI SAUTERA LE PL...|  8091|      72|   Aurelien Fontenoy|          481|\n",
      "|STRANGER JOKES : ...| 14354|     202|Le Jeu, C'est Sér...|          417|\n",
      "|De retour dans le...|  9286|    1381|         silent jill|         2419|\n",
      "|T'es qui toi ? Sq...|  1674|    1903|Salut les terriens !|          701|\n",
      "|ON VOUS DÉVOILE N...|200598|    6018|     Mcfly & Carlito|         7575|\n",
      "|Benzema balance s...|  5945|     722|            HALIRIPA|         1483|\n",
      "+--------------------+------+--------+--------------------+-------------+\n",
      "only showing top 10 rows\n",
      "\n"
     ]
    }
   ],
   "source": [
    "df.select('title','likes','dislikes','channel_title','comment_count').show(10)"
   ]
  },
  {
   "cell_type": "code",
   "execution_count": 82,
   "id": "egyptian-shooting",
   "metadata": {},
   "outputs": [
    {
     "name": "stdout",
     "output_type": "stream",
     "text": [
      "+-------+-----+\n",
      "|  likes|count|\n",
      "+-------+-----+\n",
      "|4750254|    1|\n",
      "|4470923|    1|\n",
      "|3880074|    1|\n",
      "|2656682|    1|\n",
      "+-------+-----+\n",
      "only showing top 4 rows\n",
      "\n"
     ]
    }
   ],
   "source": [
    "result_df = df.groupBy(\"likes\").count().sort(\"likes\", ascending=False)\n",
    "df.select('title','likes','dislikes','channel_title','comment_count',).show(10)\n",
    "result_df.show(4)"
   ]
  },
  {
   "cell_type": "code",
   "execution_count": 86,
   "id": "professional-girlfriend",
   "metadata": {},
   "outputs": [
    {
     "name": "stdout",
     "output_type": "stream",
     "text": [
      "+-------------+---------+---------+\n",
      "|channel_title|views_min|views_max|\n",
      "+-------------+---------+---------+\n",
      "|         Mx18|    35254|    88540|\n",
      "|    C l'hebdo|     2957|    48321|\n",
      "|    Jinkz1996|     2731|    19549|\n",
      "|   unreal spy|     1180|     1180|\n",
      "|     Alcaline|     4378|     4378|\n",
      "+-------------+---------+---------+\n",
      "only showing top 5 rows\n",
      "\n"
     ]
    }
   ],
   "source": [
    "from pyspark.sql.functions import *\n",
    "from pyspark.sql import functions as F\n",
    "\n",
    "min_max_df = df.groupBy('channel_title')\\\n",
    "                .agg(F.min('views').alias(\"views_min\"),\\\n",
    "                F.max('views').alias(\"views_max\"))\n",
    "min_max_df.show(5)               "
   ]
  },
  {
   "cell_type": "code",
   "execution_count": null,
   "id": "lasting-honolulu",
   "metadata": {},
   "outputs": [],
   "source": []
  }
 ],
 "metadata": {
  "kernelspec": {
   "display_name": "Python 3",
   "language": "python",
   "name": "python3"
  },
  "language_info": {
   "codemirror_mode": {
    "name": "ipython",
    "version": 3
   },
   "file_extension": ".py",
   "mimetype": "text/x-python",
   "name": "python",
   "nbconvert_exporter": "python",
   "pygments_lexer": "ipython3",
   "version": "3.8.6"
  }
 },
 "nbformat": 4,
 "nbformat_minor": 5
}
